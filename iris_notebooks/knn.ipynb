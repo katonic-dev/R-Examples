{
 "cells": [
  {
   "cell_type": "code",
   "execution_count": null,
   "id": "ab897665-5c92-41e2-be29-0b99e5642bf0",
   "metadata": {},
   "outputs": [],
   "source": [
    "# install.packages(\"caret\", dependencies=c(\"Depends\", \"Suggests\"),repos = \"http://cran.us.r-project.org\")\n",
    "\n",
    "# install.packages(\"gower\",repos = \"http://cran.us.r-project.org\")\n",
    "# install.packages(\"parallelly\",repos = \"http://cran.us.r-project.org\")\n",
    "# install.packages(\"ModelMetrics\",repos = \"http://cran.us.r-project.org\")\n",
    "library(caret)\n",
    "\n",
    "dataset<-read.csv(\"train.csv\")\n",
    "sapply(dataset, class)\n",
    "head(dataset)\n",
    "dataset$Species <- as.factor(dataset$Species)\n",
    "\n",
    "# Run algorithms using 10-fold cross validation\n",
    "control <- readRDS(\"control.rds\")\n",
    "metric <- \"Accuracy\"\n",
    "\n",
    "# kNN\n",
    "set.seed(7)\n",
    "fit.knn <- train(Species~., data=dataset, method=\"knn\", metric=metric, trControl=control)\n",
    "\n",
    "\n",
    "saveRDS(fit.knn, \"knn.rds\")\n",
    "\n"
   ]
  }
 ],
 "metadata": {
  "kernelspec": {
   "display_name": "R",
   "language": "R",
   "name": "ir"
  },
  "language_info": {
   "codemirror_mode": "r",
   "file_extension": ".r",
   "mimetype": "text/x-r-source",
   "name": "R",
   "pygments_lexer": "r",
   "version": "4.1.3"
  }
 },
 "nbformat": 4,
 "nbformat_minor": 5
}
