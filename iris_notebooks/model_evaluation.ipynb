{
 "cells": [
  {
   "cell_type": "code",
   "execution_count": null,
   "id": "bb198047-3f84-4a0b-80f7-4e97df93d4d4",
   "metadata": {},
   "outputs": [],
   "source": [
    "# summarize accuracy of models\n",
    "# install.packages(\"caret\", dependencies=c(\"Depends\", \"Suggests\"),repos = \"http://cran.us.r-project.org\")\n",
    "\n",
    "# install.packages(\"gower\",repos = \"http://cran.us.r-project.org\")\n",
    "# install.packages(\"parallelly\",repos = \"http://cran.us.r-project.org\")\n",
    "# install.packages(\"ModelMetrics\",repos = \"http://cran.us.r-project.org\")\n",
    "library(caret)\n",
    "\n",
    "fit.lda <- readRDS(\"lda.rds\")\n",
    "fit.cart <- readRDS(\"cart.rds\")\n",
    "fit.knn <- readRDS(\"knn.rds\")\n",
    "fit.svm <- readRDS(\"svm.rds\")\n",
    "fit.rf <- readRDS(\"rf.rds\")\n",
    "\n",
    "validation<-read.csv(\"validation.csv\")\n",
    "sapply(validation, class)\n",
    "head(validation)\n",
    "validation$Species <- as.factor(validation$Species)\n",
    "\n",
    "results <- resamples(list(lda=fit.lda, cart=fit.cart, knn=fit.knn, svm=fit.svm, rf=fit.rf))\n",
    "summary(results)\n",
    "\n",
    "\n",
    "# compare accuracy of models\n",
    "dotplot(results)\n",
    "\n",
    "# summarize Best Model\n",
    "print(fit.lda)\n",
    "\n",
    "predictions <- predict(fit.lda, validation)\n",
    "confusionMatrix(predictions, validation$Species)"
   ]
  }
 ],
 "metadata": {
  "kernelspec": {
   "display_name": "R",
   "language": "R",
   "name": "ir"
  },
  "language_info": {
   "codemirror_mode": "r",
   "file_extension": ".r",
   "mimetype": "text/x-r-source",
   "name": "R",
   "pygments_lexer": "r",
   "version": "4.1.3"
  }
 },
 "nbformat": 4,
 "nbformat_minor": 5
}
