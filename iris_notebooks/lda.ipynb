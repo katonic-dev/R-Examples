{
 "cells": [
  {
   "cell_type": "code",
   "execution_count": null,
   "id": "ba0ecc24-0adc-48b4-88b7-87c1018437b7",
   "metadata": {},
   "outputs": [],
   "source": [
    "\n",
    "# install.packages(\"caret\", dependencies=c(\"Depends\", \"Suggests\"),repos = \"http://cran.us.r-project.org\")\n",
    "\n",
    "# install.packages(\"gower\",repos = \"http://cran.us.r-project.org\")\n",
    "# install.packages(\"parallelly\",repos = \"http://cran.us.r-project.org\")\n",
    "# install.packages(\"ModelMetrics\",repos = \"http://cran.us.r-project.org\")\n",
    "library(caret)\n",
    "\n",
    "dataset<-read.csv(\"train.csv\")\n",
    "sapply(dataset, class)\n",
    "head(dataset)\n",
    "dataset$Species <- as.factor(dataset$Species)\n",
    "\n",
    "# Run algorithms using 10-fold cross validation\n",
    "control <- readRDS(\"control.rds\")\n",
    "metric <- \"Accuracy\"\n",
    "\n",
    "# a) linear algorithms\n",
    "set.seed(7)\n",
    "fit.lda <- train(Species~., data=dataset, method=\"lda\", metric=metric, trControl=control)\n",
    "\n",
    "saveRDS(fit.lda, \"lda.rds\")"
   ]
  }
 ],
 "metadata": {
  "kernelspec": {
   "display_name": "R",
   "language": "R",
   "name": "ir"
  },
  "language_info": {
   "codemirror_mode": "r",
   "file_extension": ".r",
   "mimetype": "text/x-r-source",
   "name": "R",
   "pygments_lexer": "r",
   "version": "4.1.3"
  }
 },
 "nbformat": 4,
 "nbformat_minor": 5
}
