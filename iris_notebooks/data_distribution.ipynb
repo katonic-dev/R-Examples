{
 "cells": [
  {
   "cell_type": "code",
   "execution_count": null,
   "id": "ea65a561-8374-47b2-845d-a3d00a0cd38b",
   "metadata": {},
   "outputs": [],
   "source": [
    "\n",
    "# install.packages(\"caret\", dependencies=c(\"Depends\", \"Suggests\"),repos = \"http://cran.us.r-project.org\")\n",
    "\n",
    "# install.packages(\"gower\",repos = \"http://cran.us.r-project.org\")\n",
    "# install.packages(\"parallelly\",repos = \"http://cran.us.r-project.org\")\n",
    "# install.packages(\"ModelMetrics\",repos = \"http://cran.us.r-project.org\")\n",
    "library(caret)\n",
    "\n",
    "dataset<-read.csv(\"train.csv\")\n",
    "\n",
    "sapply(dataset, class)\n",
    "head(dataset)\n",
    "dataset$Species <- as.factor(dataset$Species)\n",
    "# split input and output\n",
    "x <- dataset[,1:4]\n",
    "y <- dataset[,5]\n",
    "\n",
    "head(dataset)\n",
    "summary(dataset)\n",
    "\n",
    "# boxplot for each attribute on one image\n",
    "par(mfrow=c(1,4))\n",
    "for(i in 1:4) {\n",
    "  boxplot(main=names(iris)[i],x[,i])\n",
    "}\n",
    "\n",
    "print(y)\n",
    "\n",
    "\n",
    "# barplot for class breakdown\n",
    "plot(y)\n",
    "\n",
    "# scatterplot matrix\n",
    "featurePlot(x=x, y=y, plot=\"ellipse\")\n",
    "\n",
    "\n",
    "# box and whisker plots for each attribute\n",
    "featurePlot(x=x, y=y, plot=\"box\")\n",
    "\n",
    "scales <- list(x=list(relation=\"free\"), y=list(relation=\"free\"))\n",
    "featurePlot(x=x, y=y, plot=\"density\", scales=scales)\n",
    "\n",
    "control <- trainControl(method=\"cv\", number=10)\n",
    "\n",
    "saveRDS(control, \"control.rds\")\n",
    "\n",
    "write.csv(x,\"features.csv\",row.names=FALSE)\n",
    "write.csv(y,\"target.csv\",row.names=FALSE)\n",
    "\n"
   ]
  }
 ],
 "metadata": {
  "kernelspec": {
   "display_name": "R",
   "language": "R",
   "name": "ir"
  },
  "language_info": {
   "codemirror_mode": "r",
   "file_extension": ".r",
   "mimetype": "text/x-r-source",
   "name": "R",
   "pygments_lexer": "r",
   "version": "4.1.3"
  }
 },
 "nbformat": 4,
 "nbformat_minor": 5
}
